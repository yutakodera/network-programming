{
  "cells": [
    {
      "cell_type": "markdown",
      "metadata": {
        "id": "fdq_FFgzMB1O"
      },
      "source": [
        "### Python入門@環境測定演習\n",
        "\n",
        "## Python基礎\n",
        "\n",
        "　ここではまず，pythonの基礎について学習します．\n",
        "pythonはインタプリタ型言語と呼ばれ，コンパイルを必要とせず実行時に1行ずつ機械語に翻訳していきます．\n",
        "そのため，コードを書いて実行，デバッグという手順を柔軟かつ手軽に行うことができるというメリットがあります．\n",
        "\n",
        "　また，豊富なライブラリが提供されており大規模な開発でも実装が容易であるため，近年では機械学習をはじめとする様々な研究開発用途でpythonが用いられています．\n",
        "一方で，実行のたび1行ずつコンパイルしていくため，Ｃ言語などのコンパイラ型言語よりも低速となることは知っておきましょう．\n",
        "なお，以下ではpython3系を用いて説明します．\n",
        "\n",
        "# 変数と代入，値の表示\n",
        "\n",
        "pythonでは明示的に型を宣言する必要はなく，以下のようにいきなり値の代入を行うことができ，値を出力する場合にはprintを用います．\n",
        "実際に値を書き換えたり，式を変更したりして実行してみましょう．\n",
        "\n",
        "算術演算については他のプログラミング言語同様に扱うことができ，代表的な演算子については表を参照のこと．\n",
        "\n",
        "| 演算子名 | 記号 | 説明 |\n",
        "| --- | :---: | --- | \n",
        "| 加算 | + | |\n",
        "| 減算 | - | |\n",
        "| 乗算 | * | |\n",
        "| 除算 | / | 浮動小数点型を返す |\n",
        "| 商 | // | |\n",
        "| 剰余 | % | |\n"
      ]
    },
    {
      "cell_type": "code",
      "execution_count": null,
      "metadata": {
        "id": "WQhwtjwuQO_g"
      },
      "outputs": [],
      "source": [
        "a = 10\n",
        "print(a)\n",
        "b = 20\n",
        "print(b)\n",
        "c = a+b\n",
        "print(c)"
      ]
    },
    {
      "cell_type": "markdown",
      "metadata": {
        "id": "jlKILXQsRB7p"
      },
      "source": [
        "さらに文字列を扱う場合にはシングルクォーテーションまたはダブルクォーテーションで括ることで変数への代入やprintでの出力に利用できます．\n",
        "\n",
        "また，formatを用いると，文字列中への変数値の埋め込みなどもできて便利なので覚えておくとよいでしょう．\n",
        "\n",
        "以下のサンプルも自由に変更して実行してみてください．"
      ]
    },
    {
      "cell_type": "code",
      "execution_count": null,
      "metadata": {
        "id": "1njoa78Uw0jE"
      },
      "outputs": [],
      "source": [
        "print(\"Hello World!\")\n",
        "\n",
        "a = 10\n",
        "b = 20\n",
        "print(\"a * b = {0} * {1} = {2}\".format(a,b,a*b))"
      ]
    },
    {
      "cell_type": "markdown",
      "metadata": {
        "id": "CsV_aQInyFha"
      },
      "source": [
        "代表的な型については以下を参照のこと．型を確認したい場合にはtype()を用いることで，引数として与えた変数の型を戻り値として返してくれます．\n",
        "\n",
        "\n",
        "| 型名 | 書式例 | 説明 |\n",
        "| --- | :---: | --- | \n",
        "| 整数型 (int) | 1 | 多倍長整数型 |\n",
        "| 浮動小数点型 (float) | 1.0 |  |\n",
        "| 文字列型 (str) |‘あいう’または“あいう” | ‘’ または “” で文字列を括る （Unicode文字列）|\n",
        "| バイト列型 (bytes) | b’abc’ | ASCII文字列(注1) |\n",
        "| ブール型 (bool) | True | TrueまたはFalse |\n",
        "| None 型 (NoneType) | None | 空の状態を表 |"
      ]
    },
    {
      "cell_type": "markdown",
      "metadata": {
        "id": "poJWMiE1zebS"
      },
      "source": [
        "注1：http://www12.plala.or.jp/mz80k2/electronics/ascii/ascii.html を参照"
      ]
    },
    {
      "cell_type": "markdown",
      "metadata": {
        "id": "NKvmGI3F1BWO"
      },
      "source": [
        "# 制御文\n",
        "\n",
        "　pythonでもif文やfor文，while文を利用できるが，これらを扱う際には**インデント（字下げ）**を合わせることが非常に重要です．インデントがずれていると期待しているものとは違う動作をしているので注意が必要です．\n",
        "\n",
        "__if文での条件分岐__\n",
        "\n",
        "　まずif文ですが，以下のように条件式の後ろにコロン（：）を付けて記述します．\n",
        "elifはif文中で何度でも繰り返し利用でき，elif, elseについては省略しても構いません．\n",
        "```\n",
        "if 条件式1:\n",
        "    実行したい処理\n",
        "elif 条件式2:\n",
        "    実行したい処理\n",
        "elif 条件式3:\n",
        "    実行したい処理\n",
        "else:\n",
        "    実行したい処理\n",
        "```\n",
        "\n",
        "　また，ifをネストしたい場合には次のように，if文全体をインデントする必要があります．\n",
        "```\n",
        "if 条件式1:\n",
        "    実行したい処理\n",
        "elif 条件式2:\n",
        "    if 条件式2-1:\n",
        "        実行したい処理\n",
        "    elif 条件式2-2:\n",
        "        実行したい処理\n",
        "    else: \n",
        "        実行したい処理\n",
        "elif 条件式3:\n",
        "    実行したい処理\n",
        "else:\n",
        "    実行したい処理\n",
        "```\n",
        "\n",
        "以下はif文の例になります．\n",
        "\n",
        "nの値を変えて出力の変化を見てみましょう．"
      ]
    },
    {
      "cell_type": "code",
      "execution_count": null,
      "metadata": {
        "id": "H3XMKCM45A92"
      },
      "outputs": [],
      "source": [
        "n = 100\n",
        "if n < 0: \n",
        "  print(\"n = {0} is negative\".format(n))\n",
        "elif n > 0:\n",
        "  if n < 50:\n",
        "    print(\"n = {0} is less than 50\".format(n))\n",
        "  elif n >= 50:\n",
        "    print(\"n = {0} is greater than or equal to 50\".format(n))\n",
        "else: \n",
        "  print(\"n = {0} is zero\".format(n))"
      ]
    },
    {
      "cell_type": "markdown",
      "metadata": {
        "id": "2xcMi_799ADF"
      },
      "source": [
        "__for文での繰り返し処理__\n",
        "\n",
        "　次にfor文ですが，pythonでは後述のリストと呼ばれる配列から1つずつ要素を取り出しながら繰り返し処理を実行する方法として次のような記述方法が提供されています．\n",
        "```\n",
        "for i in リスト:\n",
        "    実行したい繰り返し処理\n",
        "```\n",
        "\n",
        "以下はいずれも1～10までの値を出力するプログラムです．\n",
        "\n",
        "range()ではrange(10)とかくと[0,1,2,3,...,9]という配列を用意し，イテレーションしていると考えるとわかりやすいかもしれません．\n",
        "\n",
        "そしてrange(1,11,1)の場合は1（第一引数）から10（第二引数）までの間で1（第三引数）ずつ増加させながらリストを用意し，イテレーションしていると考えるとよいと思います．\n"
      ]
    },
    {
      "cell_type": "code",
      "execution_count": null,
      "metadata": {
        "id": "et88aPa1-du0"
      },
      "outputs": [],
      "source": [
        "for i in [1,2,3,4,5,6,7,8,9,10]:\n",
        "  print(i)\n",
        "\n",
        "for i in range(10):\n",
        "  print(i+1)\n",
        "\n",
        "for i in range(1,11,1):\n",
        "  print(i)"
      ]
    },
    {
      "cell_type": "markdown",
      "source": [
        "__while文での繰り返し処理__\n",
        "\n",
        "　while文でもfor文に似た繰り返し処理を実施できるが，ループに入るタイミングで条件判定が入るという点で異なります．\n",
        "また，for文で用いていたrange()を扱うことはできないので注意してください．\n",
        "\n",
        "記述方法については以下の通りです．\n",
        "\n",
        "if文やfor文と同様にwhile文でもインデントが重要です．\n",
        "```\n",
        "while 条件式：\n",
        "    実施したい繰り返し処理\n",
        "```\n",
        "\n",
        "実際の例は以下の通りです．\n",
        "\n",
        "先に述べたように，ループに入る前にも条件式の判定が入るため，a=10とすると何も表示されることなく終了します．"
      ],
      "metadata": {
        "id": "3d81MbQ4CW4J"
      }
    },
    {
      "cell_type": "code",
      "source": [
        "\n",
        "a = 1\n",
        "while a < 10:\n",
        "  print(a)\n",
        "  a += 1\n",
        "  "
      ],
      "metadata": {
        "id": "2gnwpjP1Ciq6"
      },
      "execution_count": null,
      "outputs": []
    },
    {
      "cell_type": "markdown",
      "source": [
        "# リスト\n",
        "\n",
        "　pythonでは可変長な配列表現としてリストが提供されています．リストには様々な型のオブジェクトを格納することができ，リスト自身をリストへ格納するということも可能です．\n",
        "\n",
        "先ほどfor文の例に書いていた[1,2,3,4,5,6,7,8,9,10]もリストで，各要素へアクセスする際にはインデックスを指定すれば特定の要素だけを取り出すことも可能です．\n",
        "\n",
        "また，リストの長さを取得する際にはlen()を用いることで取得できます．\n",
        "\n",
        "サンプルコードは以下の通りです．"
      ],
      "metadata": {
        "id": "aSfKOwJwRi1B"
      }
    },
    {
      "cell_type": "code",
      "source": [
        "# リストの作成\n",
        "a = []                                   # 空リストを作成\n",
        "b = ['RSA','AES','DES']                  # 文字列型の複数要素からなるリストを作成\n",
        "c = ['RSA', ['AES','DES','RC4']]         # リストの入れ子\n",
        "l =len(b)                                   # リストの要素数を取得\n",
        "print('a = {0}'.format(a))\n",
        "print('b = {0}'.format(b))\n",
        "print('c = {0}'.format(c))\n",
        "print('len(b) = {0}\\n'.format(l))\n",
        "\n",
        "# 任意の要素を取り出す\n",
        "array = [1, 2, 3, 4]                     # 整数型の複数要素からなるリストを作成 \n",
        "first = array.pop(0)                     # arrayに含まれる先頭（0番目）の要素を取得（arrayは[2,3,4]となる）\n",
        "print('After pop(0); array = {0}'.format(array))\n",
        "print('first: {0}\\n'.format(first))\n",
        "\n",
        "# 任意の要素を追加する\n",
        "array.insert(0, 5)                       # arrayの先頭（0番目）の要素に5を追加（arrayは[5,2,3,4]となる）\n",
        "print('After insert; array = {0}'.format(array))\n",
        "\n",
        "# 末尾を取り出す\n",
        "last = array.pop()                       # 番号を指定しなければ末尾から取り出し（arrayは[5,2,3]となる）\n",
        "print('After pop(); array = {0}'.format(array))\n",
        "print('last: {0}\\n'.format(last))\n",
        "\n",
        "# 末尾に追加\n",
        "array.append(9)                          # arrayの末尾に9を追加（arrayは[5,2,3,9]となる）\n",
        "print('After append(9); array = {0}\\n'.format(array))\n",
        "\n",
        "# 末尾にリストを追加\n",
        "array.extend([0, 1])                     # arrayの末尾に別のリスト要素を追加（arrayは[5,2,3,9,0,1]となる）\n",
        "print('After extend([0,1]); array = {0}\\n'.format(array))\n",
        "\n",
        "# リストの 1 番目から 3 番目までの要素を取り出す ( スライシング )\n",
        "slicing = array[1:4]                     # arrayは変更されない \n",
        "print('array[1:4] = {0}'.format(slicing))"
      ],
      "metadata": {
        "id": "x450PwbwSv0K"
      },
      "execution_count": null,
      "outputs": []
    },
    {
      "cell_type": "markdown",
      "source": [
        "__自作関数__\n",
        "\n",
        "　pythonで自作の関数を定義するには以下のように記述すればよいが，自作関数でも制御文同様にインデントでコードブロックを識別させる必要があります．\n",
        "```\n",
        "def 関数名(引数1,引数2,...,引数n):\n",
        "    実行させたい処理\n",
        "    return 戻り値         # 必要があれば\n",
        "```\n",
        "\n",
        "作成した関数を呼び出す際には自身で記述した関数名と引数を与えてやれば実行してくれます．\n",
        "具体的に2つの引数a,bが与えられたとき，中身を入れ替えて返す関数swapを定義して実行させてみましょう．"
      ],
      "metadata": {
        "id": "NXEbr8FzXI9u"
      }
    },
    {
      "cell_type": "code",
      "source": [
        "def swap(a, b):\n",
        "  tmp = a\n",
        "  a = b\n",
        "  b = tmp\n",
        "  return a,b\n",
        "\n",
        "a = 10\n",
        "b = 20\n",
        "print('a = {0}'.format(a))\n",
        "print('b = {0}'.format(b))\n",
        "a,b = swap(a,b)\n",
        "print('a = {0}'.format(a))\n",
        "print('b = {0}'.format(b))"
      ],
      "metadata": {
        "id": "-XvHAI9pZAFG"
      },
      "execution_count": null,
      "outputs": []
    },
    {
      "cell_type": "markdown",
      "source": [
        "__パッケージ関数の利用__\n",
        "\n",
        "　冒頭で述べたようにpythonでは豊富なライブラリが提供されており，利用したいパッケージを指定して読み込めば利用することができる．\n",
        "\n",
        "読み込む際には`import パッケージ名`という形で宣言してやれば利用できます．\n",
        "\n",
        "利用できるパッケージ・関数名は例えば以下のようなものがあります．\n",
        "\n",
        "| パッケージ名 | 関数名 | 説明 |\n",
        "| --- | --- | --- |\n",
        "| binascii | hexlify, unhexlify | バイナリとASCIIを相互変換 |\n",
        "| os | urandom | 暗号用途に適した指定バイト数の乱数を返す |\n",
        "| random | seed, randrange | 擬似乱数を返す |\n",
        "| sympy | gcd, gcdex, randprime | 各種数学関数が利用可能 | \n",
        "| time | perf_counter | 非推奨のtime.clock()に代わる関数 |\n",
        "\n",
        "具体的に指定した範囲の乱数を生成するには，以下のようにシード値を設定してrandrangeで範囲指定することで乱数を生成します．"
      ],
      "metadata": {
        "id": "IDUDMQQUa3SE"
      }
    },
    {
      "cell_type": "code",
      "source": [
        "import os\n",
        "import random \n",
        "\n",
        "rand = os.urandom(16)          # 16バイトの乱数を生成\n",
        "random.seed(rand)              # シード値を指定\n",
        "r = random.randrange(0,100)    # 0以上100未満の乱数を生成\n",
        "print(r)"
      ],
      "metadata": {
        "id": "y26-LiGrupOk"
      },
      "execution_count": null,
      "outputs": []
    },
    {
      "cell_type": "markdown",
      "source": [
        "また，時間計測を行う際にはtimeパッケージを利用します．\n",
        "\n",
        "時間計測を行う際には評価したい処理の本質的でない部分（例えば乱数生成など）を計測時間に含めないように注意しましょう．\n",
        "\n",
        "以下が時間計測の例になります．"
      ],
      "metadata": {
        "id": "UkszqdRRvtJp"
      }
    },
    {
      "cell_type": "code",
      "source": [
        "import time\n",
        "import binascii\n",
        "\n",
        "p = 184908779667576050572947262326548513689\n",
        "\n",
        "# 乱数値を1000個持つ配列を作成\n",
        "a = [ ]                                                    \n",
        "for i in range(1000):\n",
        "  a.append(int(binascii.hexlify(os.urandom(20)), 16))\n",
        "  \n",
        "# 計測開始\n",
        "t = time.perf_counter()                                   # time.clock()は非推奨\n",
        "for i in range(1000):\n",
        "  pow(2, a[i], p)\n",
        "elapsed = time.perf_counter() - t\n",
        "print('{0}[s]'.format(elapsed))"
      ],
      "metadata": {
        "id": "VJS3nAYyyLlf"
      },
      "execution_count": null,
      "outputs": []
    },
    {
      "cell_type": "markdown",
      "source": [
        "__データ表現の相互変換__\n",
        "\n",
        "　pythonでは型を明示的に宣言する必要がない一方で，現在扱っている値がどの型であるかわからなくなることも少なくありません．\n",
        "\n",
        "そのため，コーディングする際にはそれぞれがどの型であるかを意識しておくことが大切です．\n",
        "また，比較する型が異なる場合や関数へ入力する型が適切でない場合にはエラーにより停止してしまいます．\n",
        "\n",
        "　変数の型はtype()を用いれば確認することができました．\n",
        "ここでは，型同士や整数値の表現の変換方法について説明します．\n",
        "\n",
        "1. 整数型（int）とバイト型（bytes）\n",
        "\n",
        "　python3.2以降であれば以下のようにto_bytes(), from_bytes()を用いると簡単に変換が可能です．\n",
        "余談ですが，第二引数の'big'はバイトの並び順（バイトオーダー）を示しており，他には'little'も指定が可能ですが，原則的に'big'としておけば普段扱っている数値と同じ並びで処理にかけることができます．\n"
      ],
      "metadata": {
        "id": "3ymOaQPu0Jet"
      }
    },
    {
      "cell_type": "code",
      "source": [
        "a = 18\n",
        "a = a.to_bytes(2,'big')    # 2バイトのビッグエンディアンで表現\n",
        "print(a)\n",
        "print(int.from_bytes(bytes(a), byteorder='big'))"
      ],
      "metadata": {
        "id": "dTjCIiGI32B-"
      },
      "execution_count": null,
      "outputs": []
    },
    {
      "cell_type": "markdown",
      "source": [
        "  ほかにも，「整数型 ---> 16進バイト列 ---> バイト列」と段階的に変換していく方法もあります．バイト列から整数型はその逆をたどればよいわけです．\n",
        "  \n",
        "  変換の例は以下の通りです．"
      ],
      "metadata": {
        "id": "G63Nzx5W6qS0"
      }
    },
    {
      "cell_type": "code",
      "source": [
        "import os, binascii\n",
        "a0 = os.urandom(10)         # バイト列生成\n",
        "print(a0)\n",
        "a1 = binascii.hexlify(a0)   # バイト列 --> 16 進バイト列\n",
        "print(a1)\n",
        "a2 = int(a1, 16)            # 16 進バイト列 --> 整数型\n",
        "print(a2)\n",
        "a3 = b'%x' % a2             # 整数型 --> 16 進バイト列\n",
        "print(a3)\n",
        "a4 = binascii.unhexlify(a3) # 16 進バイト列 --> バイト列\n",
        "print(a4)"
      ],
      "metadata": {
        "id": "H2_neotG75OJ"
      },
      "execution_count": null,
      "outputs": []
    },
    {
      "cell_type": "markdown",
      "source": [
        "2. 文字列型（str）とバイト型（bytes）\n",
        "\n",
        "　Unicode文字列とバイト型の相互変換はencode()/decode()を用いることで実行できます．\n",
        "具体例は以下の通りです．"
      ],
      "metadata": {
        "id": "t2tGmobm8iOL"
      }
    },
    {
      "cell_type": "code",
      "source": [
        "a = 'あいうえお'\n",
        "print(a)          \n",
        "b = a.encode()    # Unicode 文字列 → バイト列\n",
        "print(b)          \n",
        "c = b.decode()    # バイト列 → Unicode 文字列\n",
        "print(c)          "
      ],
      "metadata": {
        "id": "x--h38FY9Kyj"
      },
      "execution_count": null,
      "outputs": []
    },
    {
      "cell_type": "markdown",
      "source": [
        "3. 整数型（int）と文字列型（str）\n",
        "\n",
        "　整数型と文字列型の変換では「整数型 <---> バイト型 <---> 文字列型」とバイト型を介して相互変換を行います．\n",
        "\n",
        "具体例は以下の通りです．\n",
        "一見ただの大きな整数に見えますが，実は文字列型で表現すると意味のある文字列となります．"
      ],
      "metadata": {
        "id": "LlOIIJ1h9gav"
      }
    },
    {
      "cell_type": "code",
      "source": [
        "m_int = 344668130249545489987936795973661234\n",
        "m_byte = m_int.to_bytes(15, byteorder = 'big')    # int --> bytes\n",
        "print(m_byte)\n",
        "m = m_byte.decode()                               # bytes --> str\n",
        "print(m)\n",
        "m_bytes = m.encode()                              # str --> bytes\n",
        "print(m_bytes) \n",
        "m_int = int.from_bytes(m_byte, byteorder = 'big') # bytes --> int\n",
        "print(m_int)"
      ],
      "metadata": {
        "id": "v3Tzh5Ez-V6X"
      },
      "execution_count": null,
      "outputs": []
    },
    {
      "cell_type": "markdown",
      "source": [
        "__ファイルの入出力__\n",
        "\n",
        "　ファイルの読み書きについて説明していきます．ファイルを開く際にはopen()を用いればよいが， 使用する際にはファイル名とモードを指定する必要があります．\n",
        "指定するモードは表の通りとなります．\n",
        "\n",
        "| 記号 | 説明 |\n",
        "| --- | --- |\n",
        "| r もしくは rt | テキストファイルを読み込み |\n",
        "| w もしくは wt | テキストファイルへの書き込み |\n",
        "| a もしくは at | テキストファイルへの追記 |\n",
        "| rb | バイナリファイルを読み込み |\n",
        "| wb | バイナリファイルへの書き込み |\n",
        "| ab | バイナリファイルへの追記 |\n",
        "\n",
        "また，open()に対応するようにclose()も記述する必要がありますが，with文を用いることでより簡単にファイル読み込みを行うことができます．\n"
      ],
      "metadata": {
        "id": "ltJSezT7A5ae"
      }
    },
    {
      "cell_type": "code",
      "source": [
        "# ファイルへの読み書き①\n",
        "s1 = 'This is an example'\n",
        "s2 = 'end'\n",
        "f1 = open('test.txt', 'w')\n",
        "f1.write(s1+'\\n')                   # s1を書き込んで改行\n",
        "f1.write(s2)                        # s2を書き込む\n",
        "f1.close()\n",
        "\n",
        "f2 = open('test.txt', 'r')\n",
        "s3 = f2.read()\n",
        "print(s3)\n",
        "f2.close()\n",
        "\n",
        "# ファイルへの読み書き②\n",
        "with open('test.txt',  'r') as f3:  #with as 構文でファイルを開く\n",
        "  s4 = f3.readlines()\n",
        "  print(s4)"
      ],
      "metadata": {
        "id": "9hEqd7QMFGYa"
      },
      "execution_count": null,
      "outputs": []
    },
    {
      "cell_type": "markdown",
      "source": [
        "　さらに別の方法として，Pickleパッケージを利用してデータ型を気にすることなくファイルを入出力するという方法もあります．"
      ],
      "metadata": {
        "id": "0ItkLbFfGUzZ"
      }
    },
    {
      "cell_type": "code",
      "source": [
        "import pickle\n",
        "x = [1, 2]\n",
        "with open('data.txt', 'wb') as f:\n",
        "  pickle.dump(x, f)\n",
        "with open('data.txt', 'rb') as f:\n",
        "  y = pickle.load(f)\n",
        "  print(y)           "
      ],
      "metadata": {
        "id": "JIZIcA6eGfH3"
      },
      "execution_count": null,
      "outputs": []
    },
    {
      "cell_type": "markdown",
      "source": [
        "__エラー処理__\n",
        "\n",
        "　最後にpythonはインタプリタ型のプログラミング言語であるため，エラーが発生すると処理が停止してしまいます．\n",
        "しかし，エラーが起きた場合でも例外処理を行い，そのままプログラムを実行し続けたい場合があります．\n",
        "そのような場合に以下のtry-except文を使うことで，所望の動作を実現させることができます．\n",
        "```\n",
        "try:\n",
        "  エラーが発生するかもしれない処理\n",
        "except:\n",
        "  例外発生時に行いたい処理\n",
        "```\n",
        "\n",
        "例えば，先ほどのファイル読み込みなどを例に挙げてみましょう．"
      ],
      "metadata": {
        "id": "_0kU0XbQ2iOB"
      }
    },
    {
      "cell_type": "code",
      "source": [
        "input_file_name = input ('ファイル名を入力してください')\n",
        "try:\n",
        "   file_name = open(input_file_name)\n",
        "   text = file_name.read()\n",
        "   print(text)\n",
        "   file_name.close()\n",
        "except:\n",
        "   print('該当するファイルはありません')"
      ],
      "metadata": {
        "id": "qtuNwBzV3ide"
      },
      "execution_count": null,
      "outputs": []
    },
    {
      "cell_type": "markdown",
      "source": [
        "本実験で使用するpythonの基本的な文法については以上でおしまいです．"
      ],
      "metadata": {
        "id": "gMybUsRe3lMy"
      }
    }
  ],
  "metadata": {
    "colab": {
      "provenance": [],
      "collapsed_sections": [
        "sYFn3Cm8QYg2"
      ]
    },
    "kernelspec": {
      "display_name": "Python 3",
      "name": "python3"
    },
    "language_info": {
      "name": "python"
    }
  },
  "nbformat": 4,
  "nbformat_minor": 0
}