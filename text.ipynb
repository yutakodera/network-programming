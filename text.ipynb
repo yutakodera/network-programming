{
 "cells": [
  {
   "cell_type": "markdown",
   "metadata": {
    "id": "fdq_FFgzMB1O"
   },
   "source": [
    "### Python入門@環境測定演習\n",
    "\n",
    "## Python基礎\n",
    "\n",
    "　ここではまず，pythonの基礎について学習します．\n",
    "pythonはインタプリタ型言語と呼ばれ，コンパイルを必要とせず実行時に1行ずつ機械語に翻訳していきます．\n",
    "そのため，コードを書いて実行，デバッグという手順を柔軟かつ手軽に行うことができるというメリットがあります．\n",
    "\n",
    "　また，豊富なライブラリが提供されており大規模な開発でも実装が容易であるため，近年では機械学習をはじめとする様々な研究開発用途でpythonが用いられています．\n",
    "一方で，実行のたび1行ずつコンパイルしていくため，Ｃ言語などのコンパイラ型言語よりも低速となることは知っておきましょう．\n",
    "なお，以下ではpython3系を用いて説明します．\n",
    "\n",
    "# 変数と代入，値の表示\n",
    "\n",
    "pythonでは明示的に型を宣言する必要はなく，以下のようにいきなり値の代入を行うことができ，値を出力する場合にはprintを用います．\n",
    "実際に値を書き換えたり，式を変更したりして実行してみましょう．\n",
    "\n",
    "算術演算については他のプログラミング言語同様に扱うことができ，代表的な演算子については表を参照のこと．\n",
    "\n",
    "| 演算子名 | 記号 | 説明 |\n",
    "| --- | :---: | --- | \n",
    "| 加算 | + | |\n",
    "| 減算 | - | |\n",
    "| 乗算 | * | |\n",
    "| 除算 | / | 浮動小数点型を返す |\n",
    "| 商 | // | |\n",
    "| 剰余 | % | |\n"
   ]
  },
  {
   "cell_type": "code",
   "execution_count": null,
   "metadata": {
    "id": "WQhwtjwuQO_g"
   },
   "outputs": [],
   "source": [
    "a = 10\n",
    "print(a)\n",
    "b = 20\n",
    "print(b)\n",
    "c = a+b\n",
    "print(c)"
   ]
  },
  {
   "cell_type": "markdown",
   "metadata": {
    "id": "jlKILXQsRB7p"
   },
   "source": [
    "さらに文字列を扱う場合にはシングルクォーテーションまたはダブルクォーテーションで括ることで変数への代入やprintでの出力に利用できます．\n",
    "\n",
    "また，formatを用いると，文字列中への変数値の埋め込みなどもできて便利なので覚えておくとよいでしょう．\n",
    "\n",
    "以下のサンプルも自由に変更して実行してみてください．"
   ]
  },
  {
   "cell_type": "code",
   "execution_count": null,
   "metadata": {
    "id": "1njoa78Uw0jE"
   },
   "outputs": [],
   "source": [
    "print(\"Hello World!\")\n",
    "\n",
    "a = 10\n",
    "b = 20\n",
    "print(\"a * b = {0} * {1} = {2}\".format(a,b,a*b))"
   ]
  },
  {
   "cell_type": "markdown",
   "metadata": {
    "id": "CsV_aQInyFha"
   },
   "source": [
    "代表的な型については以下を参照のこと．型を確認したい場合にはtype()を用いることで，引数として与えた変数の型を戻り値として返してくれます．\n",
    "\n",
    "\n",
    "| 型名 | 書式例 | 説明 |\n",
    "| --- | :---: | --- | \n",
    "| 整数型 (int) | 1 | 多倍長整数型 |\n",
    "| 浮動小数点型 (float) | 1.0 |  |\n",
    "| 文字列型 (str) |‘あいう’または“あいう” | ‘’ または “” で文字列を括る （Unicode文字列）|\n",
    "| バイト列型 (bytes) | b’abc’ | ASCII文字列(注1) |\n",
    "| ブール型 (bool) | True | TrueまたはFalse |\n",
    "| None 型 (NoneType) | None | 空の状態を表 |"
   ]
  },
  {
   "cell_type": "markdown",
   "metadata": {
    "id": "poJWMiE1zebS"
   },
   "source": [
    "注1：http://www12.plala.or.jp/mz80k2/electronics/ascii/ascii.html を参照"
   ]
  },
  {
   "cell_type": "markdown",
   "metadata": {
    "id": "NKvmGI3F1BWO"
   },
   "source": [
    "# 制御文\n",
    "\n",
    "　pythonでもif文やfor文，while文を利用できるが，これらを扱う際には**インデント（字下げ）**を合わせることが非常に重要です．インデントがずれていると期待しているものとは違う動作をしているので注意が必要です．\n",
    "\n",
    "__if文での条件分岐__\n",
    "\n",
    "　まずif文ですが，以下のように条件式の後ろにコロン（：）を付けて記述します．\n",
    "elifはif文中で何度でも繰り返し利用でき，elif, elseについては省略しても構いません．\n",
    "```\n",
    "if 条件式1:\n",
    "    実行したい処理\n",
    "elif 条件式2:\n",
    "    実行したい処理\n",
    "elif 条件式3:\n",
    "    実行したい処理\n",
    "else:\n",
    "    実行したい処理\n",
    "```\n",
    "\n",
    "　また，ifをネストしたい場合には次のように，if文全体をインデントする必要があります．\n",
    "```\n",
    "if 条件式1:\n",
    "    実行したい処理\n",
    "elif 条件式2:\n",
    "    if 条件式2-1:\n",
    "        実行したい処理\n",
    "    elif 条件式2-2:\n",
    "        実行したい処理\n",
    "    else: \n",
    "        実行したい処理\n",
    "elif 条件式3:\n",
    "    実行したい処理\n",
    "else:\n",
    "    実行したい処理\n",
    "```\n",
    "\n",
    "以下はif文の例になります．\n",
    "\n",
    "nの値を変えて出力の変化を見てみましょう．"
   ]
  },
  {
   "cell_type": "code",
   "execution_count": null,
   "metadata": {
    "id": "H3XMKCM45A92"
   },
   "outputs": [],
   "source": [
    "n = 100\n",
    "if n < 0: \n",
    "  print(\"n = {0} is negative\".format(n))\n",
    "elif n > 0:\n",
    "  if n < 50:\n",
    "    print(\"n = {0} is less than 50\".format(n))\n",
    "  elif n >= 50:\n",
    "    print(\"n = {0} is greater than or equal to 50\".format(n))\n",
    "else: \n",
    "  print(\"n = {0} is zero\".format(n))"
   ]
  },
  {
   "cell_type": "markdown",
   "metadata": {
    "id": "2xcMi_799ADF"
   },
   "source": [
    "__for文での繰り返し処理__\n",
    "\n",
    "　次にfor文ですが，pythonでは後述のリストと呼ばれる配列から1つずつ要素を取り出しながら繰り返し処理を実行する方法として次のような記述方法が提供されています．\n",
    "```\n",
    "for i in リスト:\n",
    "    実行したい繰り返し処理\n",
    "```\n",
    "\n",
    "以下はいずれも1～10までの値を出力するプログラムです．\n",
    "\n",
    "range()ではrange(10)とかくと[0,1,2,3,...,9]という配列を用意し，イテレーションしていると考えるとわかりやすいかもしれません．\n",
    "\n",
    "そしてrange(1,11,1)の場合は1（第一引数）から10（第二引数）までの間で1（第三引数）ずつ増加させながらリストを用意し，イテレーションしていると考えるとよいでしょう．\n"
   ]
  },
  {
   "cell_type": "code",
   "execution_count": null,
   "metadata": {
    "id": "et88aPa1-du0"
   },
   "outputs": [],
   "source": [
    "for i in [1,2,3,4,5,6,7,8,9,10]:\n",
    "  print(i)\n",
    "\n",
    "for i in range(10):\n",
    "  print(i+1)\n",
    "\n",
    "for i in range(1,11,1):\n",
    "  print(i)"
   ]
  },
  {
   "cell_type": "markdown",
   "metadata": {
    "id": "3d81MbQ4CW4J"
   },
   "source": [
    "__while文での繰り返し処理__\n",
    "\n",
    "　while文でもfor文に似た繰り返し処理を実施できるが，ループに入るタイミングで条件判定が入るという点で異なります．\n",
    "また，for文で用いていたrange()を扱うことはできないので注意してください．\n",
    "記述方法については以下の通りです．\n",
    "\n",
    "　if文やfor文と同様にwhile文でもインデントが重要です．\n",
    "```\n",
    "while 条件式：\n",
    "    実施したい繰り返し処理\n",
    "```\n",
    "\n",
    "実際の例は以下の通りです．\n",
    "先に述べたように，ループに入る前にも条件式の判定が入るため，a=10とすると何も表示されることなく終了します．"
   ]
  },
  {
   "cell_type": "code",
   "execution_count": null,
   "metadata": {
    "id": "2gnwpjP1Ciq6"
   },
   "outputs": [],
   "source": [
    "\n",
    "a = 1\n",
    "while a < 10:\n",
    "  print(a)\n",
    "  a += 1\n",
    "  "
   ]
  },
  {
   "cell_type": "markdown",
   "metadata": {
    "id": "aSfKOwJwRi1B"
   },
   "source": [
    "# リスト\n",
    "\n",
    "　pythonでは可変長な配列表現としてリストが提供されています．リストには様々な型のオブジェクトを格納することができ，リスト自身をリストへ格納するということも可能です．\n",
    "先ほどfor文の例に書いていた[1,2,3,4,5,6,7,8,9,10]もリストで，各要素へアクセスする際にはインデックスを指定すれば特定の要素だけを取り出すことも可能です．\n",
    "\n",
    "　また，リストの長さを取得する際にはlen()を用いることで取得できます．\n",
    "サンプルコードは以下の通りです．"
   ]
  },
  {
   "cell_type": "code",
   "execution_count": null,
   "metadata": {
    "id": "x450PwbwSv0K"
   },
   "outputs": [],
   "source": [
    "# リストの作成\n",
    "a = []                                   # 空リストを作成\n",
    "b = ['RSA','AES','DES']                  # 文字列型の複数要素からなるリストを作成\n",
    "c = ['RSA', ['AES','DES','RC4']]         # リストの入れ子\n",
    "l =len(b)                                   # リストの要素数を取得\n",
    "print('a = {0}'.format(a))\n",
    "print('b = {0}'.format(b))\n",
    "print('c = {0}'.format(c))\n",
    "print('len(b) = {0}\\n'.format(l))\n",
    "\n",
    "# 任意の要素を取り出す\n",
    "array = [1, 2, 3, 4]                     # 整数型の複数要素からなるリストを作成 \n",
    "first = array.pop(0)                     # arrayに含まれる先頭（0番目）の要素を取得（arrayは[2,3,4]となる）\n",
    "print('After pop(0); array = {0}'.format(array))\n",
    "print('first: {0}\\n'.format(first))\n",
    "\n",
    "# 任意の要素を追加する\n",
    "array.insert(0, 5)                       # arrayの先頭（0番目）の要素に5を追加（arrayは[5,2,3,4]となる）\n",
    "print('After insert; array = {0}'.format(array))\n",
    "\n",
    "# 末尾を取り出す\n",
    "last = array.pop()                       # 番号を指定しなければ末尾から取り出し（arrayは[5,2,3]となる）\n",
    "print('After pop(); array = {0}'.format(array))\n",
    "print('last: {0}\\n'.format(last))\n",
    "\n",
    "# 末尾に追加\n",
    "array.append(9)                          # arrayの末尾に9を追加（arrayは[5,2,3,9]となる）\n",
    "print('After append(9); array = {0}\\n'.format(array))\n",
    "\n",
    "# 末尾にリストを追加\n",
    "array.extend([0, 1])                     # arrayの末尾に別のリスト要素を追加（arrayは[5,2,3,9,0,1]となる）\n",
    "print('After extend([0,1]); array = {0}\\n'.format(array))\n",
    "\n",
    "# リストの 1 番目から 3 番目までの要素を取り出す ( スライシング )\n",
    "slicing = array[1:4]                     # arrayは変更されない \n",
    "print('array[1:4] = {0}'.format(slicing))"
   ]
  },
  {
   "cell_type": "markdown",
   "metadata": {
    "id": "NXEbr8FzXI9u"
   },
   "source": [
    "__自作関数__\n",
    "\n",
    "　pythonで自作の関数を定義するには以下のように記述すればよいが，自作関数でも制御文同様にインデントでコードブロックを識別させる必要があります．\n",
    "```\n",
    "def 関数名(引数1,引数2,...,引数n):\n",
    "    実行させたい処理\n",
    "    return 戻り値         # 必要があれば\n",
    "```\n",
    "\n",
    "作成した関数を呼び出す際には自身で記述した関数名と引数を与えてやれば実行してくれます．\n",
    "具体的に2つの引数a,bが与えられたとき，中身を入れ替えて返す関数swapを定義して実行させてみましょう．"
   ]
  },
  {
   "cell_type": "code",
   "execution_count": null,
   "metadata": {
    "id": "-XvHAI9pZAFG"
   },
   "outputs": [],
   "source": [
    "def swap(a, b):\n",
    "  tmp = a\n",
    "  a = b\n",
    "  b = tmp\n",
    "  return a,b\n",
    "\n",
    "a = 10\n",
    "b = 20\n",
    "print('a = {0}'.format(a))\n",
    "print('b = {0}'.format(b))\n",
    "a,b = swap(a,b)\n",
    "print('a = {0}'.format(a))\n",
    "print('b = {0}'.format(b))"
   ]
  },
  {
   "cell_type": "markdown",
   "metadata": {
    "id": "IDUDMQQUa3SE"
   },
   "source": [
    "__パッケージ関数の利用__\n",
    "\n",
    "　冒頭で述べたようにpythonでは豊富なライブラリが提供されており，利用したいパッケージを指定して読み込めば利用することができます．\n",
    "\n",
    "読み込む際には`import パッケージ名`という形で宣言してやれば利用できますが，インストールされていないこともあります．\n",
    "そのようなときには`!pip install パッケージ名`としてインストールすることで，使用することができるようになります．\n",
    "\n",
    "利用できるパッケージ・関数名は例えば以下のようなものがあります．\n",
    "\n",
    "| パッケージ名 | 関数名 | 説明 |\n",
    "| --- | --- | --- |\n",
    "| binascii | hexlify, unhexlify | バイナリとASCIIを相互変換 |\n",
    "| os | urandom | 暗号用途に適した指定バイト数の乱数を返す |\n",
    "| random | seed, randrange | 擬似乱数を返す |\n",
    "| sympy | gcd, gcdex, randprime | 各種数学関数が利用可能 | \n",
    "| time | perf_counter | 非推奨のtime.clock()に代わる関数 |\n",
    "\n",
    "具体的に，指定した範囲の乱数を生成するには，以下のようにシード値を設定してrandrangeで範囲指定することで乱数を生成します．"
   ]
  },
  {
   "cell_type": "code",
   "execution_count": null,
   "metadata": {
    "id": "y26-LiGrupOk"
   },
   "outputs": [],
   "source": [
    "import os\n",
    "import random \n",
    "\n",
    "rand = os.urandom(16)          # 16バイトの乱数を生成\n",
    "random.seed(rand)              # シード値を指定\n",
    "r = random.randrange(0,100)    # 0以上100未満の乱数を生成\n",
    "print(r)"
   ]
  },
  {
   "cell_type": "markdown",
   "metadata": {
    "id": "UkszqdRRvtJp"
   },
   "source": [
    "また，時間計測を行う際にはtimeパッケージを利用します．\n",
    "\n",
    "時間計測を行う際には評価したい処理の本質的でない部分（例えば乱数生成など）を計測時間に含めないように注意しましょう．\n",
    "\n",
    "以下が時間計測の例になります．"
   ]
  },
  {
   "cell_type": "code",
   "execution_count": null,
   "metadata": {
    "id": "VJS3nAYyyLlf"
   },
   "outputs": [],
   "source": [
    "import time\n",
    "import binascii\n",
    "\n",
    "p = 184908779667576050572947262326548513689\n",
    "\n",
    "# 乱数値を1000個持つ配列を作成\n",
    "a = [ ]                                                    \n",
    "for i in range(1000):\n",
    "  a.append(int(binascii.hexlify(os.urandom(20)), 16))\n",
    "  \n",
    "# 計測開始\n",
    "t = time.perf_counter()                                   # time.clock()は非推奨\n",
    "for i in range(1000):\n",
    "  pow(2, a[i], p)\n",
    "elapsed = time.perf_counter() - t\n",
    "print('{0}[s]'.format(elapsed))"
   ]
  },
  {
   "cell_type": "markdown",
   "metadata": {
    "id": "sXX9SQkbCZ4n"
   },
   "source": [
    "　特に今回の実験ではサーバへのHTTPリクエストとGoogleスプレッドシートへの書き込みを行う必要があります．\n",
    "これらもrequestsとgspreadを読み込むことで，容易に実行することができます．\n",
    "\n",
    "　以下はHTTPリクエストのうち，POSTと呼ばれる方法で指定したURLへアクセスし，情報を取得・表示するプログラムです．\n",
    "\n",
    "**注）プログラムで処理を自動化することは便利ですが，許可された場合を除き，サーバへの過度なアクセス等は，不正アクセス禁止法等の法令に抵触する可能性があるので慎重に利用する必要があります．**"
   ]
  },
  {
   "cell_type": "code",
   "execution_count": null,
   "metadata": {
    "id": "XxUFhtNAEOCR"
   },
   "outputs": [],
   "source": [
    "!pip install requests\n",
    "\n",
    "import requests\n",
    "\n",
    "url = '接続先'\n",
    "res = requests.post(url)\n",
    "print(res.text)"
   ]
  },
  {
   "cell_type": "markdown",
   "metadata": {
    "id": "WDSAbYUpHTwp"
   },
   "source": [
    "`res = requests.post(url)`という行が，指定したURLへ接続し，取得した各種情報を`res`という変数へ保存している処理です．\n",
    "`res`には様々な情報が含まれていますが，今回は`res.text`とすることで取得したWebページの本文を参照することができるということを覚えておけば十分です．\n",
    "\n",
    "　また，以下はGoole Colaboratory上でGoogleスプレッドシートへ情報を書き出すプログラムです．\n",
    "実行するとGoogleの認証画面が出るかもしれませんが，今使用しているアカウントで適切に認証を行いましょう．\n",
    "\n",
    "**注）こちらもクラウド上で処理を自動化する手法の1つです．利用する際にはクラウドストレージ容量が無限でないことを理解して，過度に不必要な情報の書き出しをおこなうことは避けましょう，**"
   ]
  },
  {
   "cell_type": "code",
   "execution_count": 6,
   "metadata": {
    "colab": {
     "base_uri": "https://localhost:8080/"
    },
    "id": "_XKFK3MGJkSV",
    "outputId": "67c0b959-a6c7-4c01-8854-1e1b1108c6b1"
   },
   "outputs": [
    {
     "name": "stdout",
     "output_type": "stream",
     "text": [
      "[<Cell R1C1 'col1'>, <Cell R1C2 'col2'>, <Cell R1C3 ''>, <Cell R2C1 '1'>, <Cell R2C2 '8'>, <Cell R2C3 ''>]\n",
      "3\n",
      "4\n",
      "2\n",
      "10\n",
      "3\n",
      "8\n"
     ]
    }
   ],
   "source": [
    "!pip install --upgrade gspread\n",
    "\n",
    "from google.colab import auth\n",
    "auth.authenticate_user()\n",
    "\n",
    "import gspread\n",
    "from google.auth import default\n",
    "creds, _ = default()\n",
    "\n",
    "gc = gspread.authorize(creds)\n",
    "\n",
    "import random\n",
    "\n",
    "# 出力先のシートを作る\n",
    "output_sheet_name = 'test_sheet'\n",
    "sh = gc.create(output_sheet_name)\n",
    "worksheet = gc.open(output_sheet_name).sheet1\n",
    "\n",
    "# 出力範囲を指定する\n",
    "cell_list = worksheet.range('A1:C2')\n",
    "\n",
    "# 各セルに出力する値の設定\n",
    "for cell in cell_list:\n",
    "  cell.value = random.randint(1, 10)\n",
    "\n",
    "# シートにデータを出力する\n",
    "worksheet.update_cells(cell_list)\n"
   ]
  },
  {
   "cell_type": "markdown",
   "metadata": {
    "id": "xnv-XSPaJ7uF"
   },
   "source": [
    "　上記のプログラムを実行し，以下へアクセスすると`test_sheet`という名前で，`A1:C2`までのセルに乱数が入力されているシートがあると思います．\n",
    "\n",
    "　https://docs.google.com/spreadsheets\n",
    "\n",
    "このように`output_sheet_name`に指定した名前のシートを自動で作成することができます．\n",
    "\n",
    "　プログラムで実施している詳細についていくつかのパートに分けてみていきましょう．\n",
    "まず，以下の部分ですが，`!pip install --upgrade gspread`は先に説明の通り，`gspread`をインストールしている処理になります．\n",
    "それ以降の個所はGoogle ColaboratoryからGoogleスプレッドシートへアクセスするための認証を自動的に行う処理です．\n",
    "**実験内でもこの部分はそのまま手を加えずに使用すれば問題ありません．**\n",
    "```\n",
    "!pip install --upgrade gspread\n",
    "\n",
    "from google.colab import auth\n",
    "auth.authenticate_user()\n",
    "\n",
    "import gspread\n",
    "from google.auth import default\n",
    "creds, _ = default()\n",
    "\n",
    "gc = gspread.authorize(creds)\n",
    "```\n",
    "\n",
    "　次に，`import random`は乱数を扱うためにパッケージを読み込んでいます．\n",
    "そのあとに続く，以下の部分ではコメントアウトとして記述があるように，保存先のシートを準備し，どのセルに対して書き込みを行うかを明確にするため，出力するセルの範囲を指定しています．\n",
    "その後，各セルへ書き出す値を１つずつ指定し，`worksheet.update_cells`により値の書き出しを行っています．\n",
    "```\n",
    "# 出力先のシートを作る\n",
    "output_sheet_name = 'test_sheet'\n",
    "sh = gc.create(output_sheet_name)\n",
    "worksheet = gc.open(output_sheet_name).sheet1\n",
    "\n",
    "# 出力範囲を指定する\n",
    "cell_list = worksheet.range('A1:C2')\n",
    "\n",
    "# 各セルに出力する値の設定\n",
    "for cell in cell_list:\n",
    "  cell.value = random.randint(1, 10)\n",
    "\n",
    "# シートにデータを出力する\n",
    "worksheet.update_cells(cell_list)\n",
    "```"
   ]
  },
  {
   "cell_type": "markdown",
   "metadata": {
    "id": "3ymOaQPu0Jet"
   },
   "source": [
    "__UNIX時間について__\n",
    "\n",
    "　最後に，計算機上での時刻表現の一種であるUNIX時間について説明します．UNIX時間とは協定世界時での1970年1月1日午前0時0分0秒から形式的な経過秒数として表される値です．今回の実験でもCO2濃度を観測した日時はUNIX時間として表現され，データベースへ格納されています．\n",
    "\n",
    "　UNIX時間から見慣れた年月日表現へ変更するには，以下のように`datetime`を用います．"
   ]
  },
  {
   "cell_type": "code",
   "execution_count": 1,
   "metadata": {
    "colab": {
     "base_uri": "https://localhost:8080/"
    },
    "id": "0hIpDPFt_b_o",
    "outputId": "66a9f24c-43e3-4389-9064-18bfa1008dca"
   },
   "outputs": [
    {
     "name": "stdout",
     "output_type": "stream",
     "text": [
      "2022-12-09 22:17:34.781002\n",
      "1670591854.781002\n",
      "2022-12-09 22:17:34.781002\n"
     ]
    }
   ],
   "source": [
    "import datetime\n",
    "\n",
    "# 現在の時刻を取得\n",
    "current_datetime = datetime.datetime.now()\n",
    "print(current_datetime)\n",
    "\n",
    "# UNIX時間へ変換\n",
    "unixtime = datetime.datetime.timestamp(current_datetime)\n",
    "print(unixtime)\n",
    "\n",
    "# UNIX時間から変換\n",
    "datetime_from_unixtime = datetime.datetime.fromtimestamp(unixtime)\n",
    "print(datetime_from_unixtime)"
   ]
  },
  {
   "cell_type": "markdown",
   "metadata": {
    "id": "gMybUsRe3lMy"
   },
   "source": [
    "本実験で使用するpythonの基本的な文法については以上でおしまいです．"
   ]
  },
  {
   "cell_type": "code",
   "execution_count": 3,
   "metadata": {},
   "outputs": [
    {
     "name": "stdout",
     "output_type": "stream",
     "text": [
      "1: lo: <LOOPBACK,UP,LOWER_UP> mtu 65536 qdisc noqueue state UNKNOWN group default qlen 1000\n",
      "    link/loopback 00:00:00:00:00:00 brd 00:00:00:00:00:00\n",
      "    inet 127.0.0.1/8 scope host lo\n",
      "       valid_lft forever preferred_lft forever\n",
      "    inet6 ::1/128 scope host \n",
      "       valid_lft forever preferred_lft forever\n",
      "2: bond0: <BROADCAST,MULTICAST,MASTER> mtu 1500 qdisc noop state DOWN group default qlen 1000\n",
      "    link/ether c2:f1:99:c3:c2:0a brd ff:ff:ff:ff:ff:ff\n",
      "3: dummy0: <BROADCAST,NOARP> mtu 1500 qdisc noop state DOWN group default qlen 1000\n",
      "    link/ether da:cc:99:de:29:1c brd ff:ff:ff:ff:ff:ff\n",
      "4: tunl0@NONE: <NOARP> mtu 1480 qdisc noop state DOWN group default qlen 1000\n",
      "    link/ipip 0.0.0.0 brd 0.0.0.0\n",
      "5: sit0@NONE: <NOARP> mtu 1480 qdisc noop state DOWN group default qlen 1000\n",
      "    link/sit 0.0.0.0 brd 0.0.0.0\n",
      "6: eth0: <BROADCAST,MULTICAST,UP,LOWER_UP> mtu 1500 qdisc mq state UP group default qlen 1000\n",
      "    link/ether 00:15:5d:22:25:38 brd ff:ff:ff:ff:ff:ff\n",
      "    inet 172.25.11.226/20 brd 172.25.15.255 scope global eth0\n",
      "       valid_lft forever preferred_lft forever\n",
      "    inet6 fe80::215:5dff:fe22:2538/64 scope link \n",
      "       valid_lft forever preferred_lft forever\n",
      "\n",
      "\n"
     ]
    }
   ],
   "source": [
    "import subprocess\n",
    "\n",
    "cmd = [\"ip\", \"a\"]\n",
    "\n",
    "# capture_output=True, text=Trueを指定\n",
    "result = subprocess.run(cmd, capture_output=True, text=True)\n",
    "\n",
    "# .stdoutに標準出力、.stderrに標準エラー出力が格納される\n",
    "print(result.stdout)\n",
    "print(result.stderr)"
   ]
  },
  {
   "cell_type": "code",
   "execution_count": null,
   "metadata": {},
   "outputs": [],
   "source": []
  }
 ],
 "metadata": {
  "colab": {
   "collapsed_sections": [
    "sYFn3Cm8QYg2"
   ],
   "provenance": []
  },
  "kernelspec": {
   "display_name": "Python 3 (ipykernel)",
   "language": "python",
   "name": "python3"
  },
  "language_info": {
   "codemirror_mode": {
    "name": "ipython",
    "version": 3
   },
   "file_extension": ".py",
   "mimetype": "text/x-python",
   "name": "python",
   "nbconvert_exporter": "python",
   "pygments_lexer": "ipython3",
   "version": "3.10.6"
  }
 },
 "nbformat": 4,
 "nbformat_minor": 1
}
