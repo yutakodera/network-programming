{
  "cells": [
    {
      "cell_type": "markdown",
      "metadata": {
        "id": "fdq_FFgzMB1O"
      },
      "source": [
        "### Python入門@環境測定演習\n",
        "\n",
        "## はじめに\n",
        "\n",
        "本テキストでは，クラウド上でpythonを体験してもらいつつ，自身のPC上でプログラムの作成，実行を行うための手順を説明しています．\n",
        "あくまで補助資料なので，__実験で使用するプログラムは各自のPC上で動作させるようにしてください__．\n",
        "\n",
        "\n",
        "## Python基礎\n",
        "\n",
        "　ここではまず，pythonの基礎について学習します．\n",
        "pythonはインタプリタ型言語と呼ばれ，コンパイルを必要とせず実行時に1行ずつ機械語に翻訳していきます．\n",
        "そのため，コードを書いて実行，デバッグという手順を柔軟かつ手軽に行うことができるというメリットがあります．\n",
        "\n",
        "　また，豊富なライブラリが提供されており大規模な開発でも実装が容易であるため，近年では機械学習をはじめとする様々な研究開発用途でpythonが用いられています．\n",
        "一方で，実行のたび1行ずつコンパイルしていくため，Ｃ言語などのコンパイラ型言語よりも低速となることは知っておきましょう．\n",
        "\n",
        "　pythonのソースコードは`sample.py`のように，`.py`という拡張子が付きます．これをターミナル上で，`python3 sample.py`としてやることで，`sample.py`内に記述した処理を実行することができます．\n",
        "\n",
        "　なお，以下ではpython3系を用いて説明します．\n",
        "\n",
        "# 変数と代入，値の表示\n",
        "\n",
        "pythonでは明示的に型を宣言する必要はなく，以下のようにいきなり値の代入を行うことができ，値を出力する場合にはprintを用います．\n",
        "実際に値を書き換えたり，式を変更したりして実行してみましょう．\n",
        "\n",
        "算術演算については他のプログラミング言語同様に扱うことができ，代表的な演算子については表を参照のこと．\n",
        "\n",
        "| 演算子名 | 記号 | 説明 |\n",
        "| --- | :---: | --- | \n",
        "| 加算 | + | |\n",
        "| 減算 | - | |\n",
        "| 乗算 | * | |\n",
        "| 除算 | / | 浮動小数点型を返す |\n",
        "| 商 | // | |\n",
        "| 剰余 | % | |\n"
      ]
    },
    {
      "cell_type": "code",
      "execution_count": null,
      "metadata": {
        "id": "WQhwtjwuQO_g"
      },
      "outputs": [],
      "source": [
        "a = 10\n",
        "print(a)\n",
        "b = 20\n",
        "print(b)\n",
        "c = a+b\n",
        "print(c)"
      ]
    },
    {
      "cell_type": "markdown",
      "metadata": {
        "id": "jlKILXQsRB7p"
      },
      "source": [
        "さらに文字列を扱う場合にはシングルクォーテーションまたはダブルクォーテーションで括ることで変数への代入やprintでの出力に利用できます．\n",
        "\n",
        "また，formatを用いると，文字列中への変数値の埋め込みなどもできて便利なので覚えておくとよいでしょう．\n",
        "\n",
        "以下のサンプルも自由に変更して実行してみてください．"
      ]
    },
    {
      "cell_type": "code",
      "execution_count": null,
      "metadata": {
        "id": "1njoa78Uw0jE"
      },
      "outputs": [],
      "source": [
        "print(\"Hello World!\")\n",
        "\n",
        "a = 10\n",
        "b = 20\n",
        "print(\"a * b = {0} * {1} = {2}\".format(a,b,a*b))"
      ]
    },
    {
      "cell_type": "markdown",
      "metadata": {
        "id": "CsV_aQInyFha"
      },
      "source": [
        "代表的な型については以下を参照のこと．型を確認したい場合にはtype()を用いることで，引数として与えた変数の型を戻り値として返してくれます．\n",
        "\n",
        "\n",
        "| 型名 | 書式例 | 説明 |\n",
        "| --- | :---: | --- | \n",
        "| 整数型 (int) | 1 | 多倍長整数型 |\n",
        "| 浮動小数点型 (float) | 1.0 |  |\n",
        "| 文字列型 (str) |‘あいう’または“あいう” | ‘’ または “” で文字列を括る （Unicode文字列）|\n",
        "| バイト列型 (bytes) | b’abc’ | ASCII文字列(注1) |\n",
        "| ブール型 (bool) | True | TrueまたはFalse |\n",
        "| None 型 (NoneType) | None | 空の状態を表 |"
      ]
    },
    {
      "cell_type": "markdown",
      "metadata": {
        "id": "poJWMiE1zebS"
      },
      "source": [
        "注1：http://www12.plala.or.jp/mz80k2/electronics/ascii/ascii.html を参照"
      ]
    },
    {
      "cell_type": "markdown",
      "metadata": {
        "id": "NKvmGI3F1BWO"
      },
      "source": [
        "# 制御文\n",
        "\n",
        "　pythonでもif文やfor文，while文を利用できるが，これらを扱う際には**インデント（字下げ）**を合わせることが非常に重要です．インデントがずれていると期待しているものとは違う動作をしているので注意が必要です．\n",
        "\n",
        "__if文での条件分岐__\n",
        "\n",
        "　まずif文ですが，以下のように条件式の後ろにコロン（：）を付けて記述します．\n",
        "elifはif文中で何度でも繰り返し利用でき，elif, elseについては省略しても構いません．\n",
        "```\n",
        "if 条件式1:\n",
        "    実行したい処理\n",
        "elif 条件式2:\n",
        "    実行したい処理\n",
        "elif 条件式3:\n",
        "    実行したい処理\n",
        "else:\n",
        "    実行したい処理\n",
        "```\n",
        "\n",
        "　また，ifをネストしたい場合には次のように，if文全体をインデントする必要があります．\n",
        "```\n",
        "if 条件式1:\n",
        "    実行したい処理\n",
        "elif 条件式2:\n",
        "    if 条件式2-1:\n",
        "        実行したい処理\n",
        "    elif 条件式2-2:\n",
        "        実行したい処理\n",
        "    else: \n",
        "        実行したい処理\n",
        "elif 条件式3:\n",
        "    実行したい処理\n",
        "else:\n",
        "    実行したい処理\n",
        "```\n",
        "\n",
        "以下はif文の例になります．\n",
        "\n",
        "nの値を変えて出力の変化を見てみましょう．"
      ]
    },
    {
      "cell_type": "code",
      "execution_count": null,
      "metadata": {
        "id": "H3XMKCM45A92"
      },
      "outputs": [],
      "source": [
        "n = 100\n",
        "if n < 0: \n",
        "  print(\"n = {0} is negative\".format(n))\n",
        "elif n > 0:\n",
        "  if n < 50:\n",
        "    print(\"n = {0} is less than 50\".format(n))\n",
        "  elif n >= 50:\n",
        "    print(\"n = {0} is greater than or equal to 50\".format(n))\n",
        "else: \n",
        "  print(\"n = {0} is zero\".format(n))"
      ]
    },
    {
      "cell_type": "markdown",
      "metadata": {
        "id": "2xcMi_799ADF"
      },
      "source": [
        "__for文での繰り返し処理__\n",
        "\n",
        "　次にfor文ですが，pythonでは後述のリストと呼ばれる配列から1つずつ要素を取り出しながら繰り返し処理を実行する方法として次のような記述方法が提供されています．\n",
        "```\n",
        "for i in リスト:\n",
        "    実行したい繰り返し処理\n",
        "```\n",
        "\n",
        "以下はいずれも1～10までの値を出力するプログラムです．\n",
        "\n",
        "range()ではrange(10)とかくと[0,1,2,3,...,9]という配列を用意し，イテレーションしていると考えるとわかりやすいかもしれません．\n",
        "\n",
        "そしてrange(1,11,1)の場合は1（第一引数）から10（第二引数）までの間で1（第三引数）ずつ増加させながらリストを用意し，イテレーションしていると考えるとよいでしょう．\n"
      ]
    },
    {
      "cell_type": "code",
      "execution_count": null,
      "metadata": {
        "id": "et88aPa1-du0"
      },
      "outputs": [],
      "source": [
        "for i in [1,2,3,4,5,6,7,8,9,10]:\n",
        "  print(i)\n",
        "\n",
        "for i in range(10):\n",
        "  print(i+1)\n",
        "\n",
        "for i in range(1,11,1):\n",
        "  print(i)"
      ]
    },
    {
      "cell_type": "markdown",
      "metadata": {
        "id": "3d81MbQ4CW4J"
      },
      "source": [
        "__while文での繰り返し処理__\n",
        "\n",
        "　while文でもfor文に似た繰り返し処理を実施できるが，ループに入るタイミングで条件判定が入るという点で異なります．\n",
        "また，for文で用いていたrange()を扱うことはできないので注意してください．\n",
        "記述方法については以下の通りです．\n",
        "\n",
        "　if文やfor文と同様にwhile文でもインデントが重要です．\n",
        "```\n",
        "while 条件式：\n",
        "    実施したい繰り返し処理\n",
        "```\n",
        "\n",
        "実際の例は以下の通りです．\n",
        "先に述べたように，ループに入る前にも条件式の判定が入るため，a=10とすると何も表示されることなく終了します．"
      ]
    },
    {
      "cell_type": "code",
      "execution_count": null,
      "metadata": {
        "id": "2gnwpjP1Ciq6"
      },
      "outputs": [],
      "source": [
        "\n",
        "a = 1\n",
        "while a < 10:\n",
        "  print(a)\n",
        "  a += 1\n",
        "  "
      ]
    },
    {
      "cell_type": "markdown",
      "metadata": {
        "id": "aSfKOwJwRi1B"
      },
      "source": [
        "# リスト\n",
        "\n",
        "　pythonでは可変長な配列表現としてリストが提供されています．リストには様々な型のオブジェクトを格納することができ，リスト自身をリストへ格納するということも可能です．\n",
        "先ほどfor文の例に書いていた[1,2,3,4,5,6,7,8,9,10]もリストで，各要素へアクセスする際にはインデックスを指定すれば特定の要素だけを取り出すことも可能です．\n",
        "\n",
        "　また，リストの長さを取得する際にはlen()を用いることで取得できます．\n",
        "サンプルコードは以下の通りです．"
      ]
    },
    {
      "cell_type": "code",
      "execution_count": null,
      "metadata": {
        "id": "x450PwbwSv0K"
      },
      "outputs": [],
      "source": [
        "# リストの作成\n",
        "a = []                                   # 空リストを作成\n",
        "b = ['RSA','AES','DES']                  # 文字列型の複数要素からなるリストを作成\n",
        "c = ['RSA', ['AES','DES','RC4']]         # リストの入れ子\n",
        "l =len(b)                                   # リストの要素数を取得\n",
        "print('a = {0}'.format(a))\n",
        "print('b = {0}'.format(b))\n",
        "print('c = {0}'.format(c))\n",
        "print('len(b) = {0}\\n'.format(l))\n",
        "\n",
        "# 任意の要素を取り出す\n",
        "array = [1, 2, 3, 4]                     # 整数型の複数要素からなるリストを作成 \n",
        "first = array.pop(0)                     # arrayに含まれる先頭（0番目）の要素を取得（arrayは[2,3,4]となる）\n",
        "print('After pop(0); array = {0}'.format(array))\n",
        "print('first: {0}\\n'.format(first))\n",
        "\n",
        "# 任意の要素を追加する\n",
        "array.insert(0, 5)                       # arrayの先頭（0番目）の要素に5を追加（arrayは[5,2,3,4]となる）\n",
        "print('After insert; array = {0}'.format(array))\n",
        "\n",
        "# 末尾を取り出す\n",
        "last = array.pop()                       # 番号を指定しなければ末尾から取り出し（arrayは[5,2,3]となる）\n",
        "print('After pop(); array = {0}'.format(array))\n",
        "print('last: {0}\\n'.format(last))\n",
        "\n",
        "# 末尾に追加\n",
        "array.append(9)                          # arrayの末尾に9を追加（arrayは[5,2,3,9]となる）\n",
        "print('After append(9); array = {0}\\n'.format(array))\n",
        "\n",
        "# 末尾にリストを追加\n",
        "array.extend([0, 1])                     # arrayの末尾に別のリスト要素を追加（arrayは[5,2,3,9,0,1]となる）\n",
        "print('After extend([0,1]); array = {0}\\n'.format(array))\n",
        "\n",
        "# リストの 1 番目から 3 番目までの要素を取り出す ( スライシング )\n",
        "slicing = array[1:4]                     # arrayは変更されない \n",
        "print('array[1:4] = {0}'.format(slicing))"
      ]
    },
    {
      "cell_type": "markdown",
      "source": [
        "# 辞書型\n",
        "\n",
        "　リスト型では配列要素を前から0,1,2,...とインデックスを指定することで，格納されているデータを参照していたが，辞書型ではキーを設定して値を参照します．また，関連してJSON形式と呼ばれるデータフォーマットがあり，pythonにおける辞書型と同様に，キーとそれに対応する値が列挙されています．\n",
        "本実験内でもCo2観測サーバからのレスポンスはJSON形式で与えられます．\n",
        "\n",
        "以下は観測データを取得した際に得られるデータのサンプルです．\n",
        "リスト内に辞書型のデータが3つ格納されており，`id, datetime, co2_val`をキーとして次のコード例のように値を参照します． \n",
        "\n",
        "```\n",
        "[ {'id': 66122, 'datetime': 1673510000.0, 'co2_val': 870.0}, {'id': 66123, 'datetime': 1673510000.0, 'co2_val': 837.0}, {'id': 66124, 'datetime': 1673520000.0, 'co2_val': 1049.0}]\n",
        "```"
      ],
      "metadata": {
        "id": "f1Wq8nCk_Dc9"
      }
    },
    {
      "cell_type": "code",
      "source": [
        "\n",
        "co2_vals = [ {'id': 66122, 'datetime': 1673510000.0, 'co2_val': 870.0}, {'id': 66123, 'datetime': 1673510000.0, 'co2_val': 837.0}, {'id': 66124, 'datetime': 1673520000.0, 'co2_val': 1049.0}]\n",
        "\n",
        "for val in co2_vals:\n",
        "  print('id      : {}'.format(val['id']))\n",
        "  print('datetime: {}'.format(val['datetime']))\n",
        "  print('co2_val : {}\\n'.format(val['co2_val']))\n",
        "\n"
      ],
      "metadata": {
        "id": "gYNXe6AvAe3f"
      },
      "execution_count": null,
      "outputs": []
    },
    {
      "cell_type": "markdown",
      "metadata": {
        "id": "NXEbr8FzXI9u"
      },
      "source": [
        "__自作関数__\n",
        "\n",
        "　pythonで自作の関数を定義するには以下のように記述すればよいが，自作関数でも制御文同様にインデントでコードブロックを識別させる必要があります．\n",
        "```\n",
        "def 関数名(引数1,引数2,...,引数n):\n",
        "    実行させたい処理\n",
        "    return 戻り値         # 必要があれば\n",
        "```\n",
        "\n",
        "作成した関数を呼び出す際には自身で記述した関数名と引数を与えてやれば実行してくれます．\n",
        "具体的に2つの引数a,bが与えられたとき，中身を入れ替えて返す関数swapを定義して実行させてみましょう．"
      ]
    },
    {
      "cell_type": "code",
      "execution_count": null,
      "metadata": {
        "id": "-XvHAI9pZAFG"
      },
      "outputs": [],
      "source": [
        "def swap(a, b):\n",
        "  tmp = a\n",
        "  a = b\n",
        "  b = tmp\n",
        "  return a,b\n",
        "\n",
        "a = 10\n",
        "b = 20\n",
        "print('a = {0}'.format(a))\n",
        "print('b = {0}'.format(b))\n",
        "a,b = swap(a,b)\n",
        "print('a = {0}'.format(a))\n",
        "print('b = {0}'.format(b))"
      ]
    },
    {
      "cell_type": "markdown",
      "metadata": {
        "id": "IDUDMQQUa3SE"
      },
      "source": [
        "__パッケージ関数の利用__\n",
        "\n",
        "　冒頭で述べたようにpythonでは豊富なライブラリが提供されており，利用したいパッケージを指定して読み込めば利用することができます．\n",
        "\n",
        "読み込む際には`import パッケージ名`という形で宣言してやれば利用できますが，インストールされていないこともあります．\n",
        "そのようなときには`!pip install パッケージ名`としてインストールすることで，使用することができるようになります．\n",
        "\n",
        "利用できるパッケージ・関数名は例えば以下のようなものがあります．\n",
        "\n",
        "| パッケージ名 | 関数名 | 説明 |\n",
        "| --- | --- | --- |\n",
        "| binascii | hexlify, unhexlify | バイナリとASCIIを相互変換 |\n",
        "| os | urandom | 暗号用途に適した指定バイト数の乱数を返す |\n",
        "| random | seed, randrange | 擬似乱数を返す |\n",
        "| sympy | gcd, gcdex, randprime | 各種数学関数が利用可能 | \n",
        "| time | perf_counter | 非推奨のtime.clock()に代わる関数 |\n",
        "\n",
        "具体的に，指定した範囲の乱数を生成するには，以下のようにシード値を設定してrandrangeで範囲指定することで乱数を生成します．"
      ]
    },
    {
      "cell_type": "code",
      "execution_count": null,
      "metadata": {
        "id": "y26-LiGrupOk"
      },
      "outputs": [],
      "source": [
        "import os\n",
        "import random \n",
        "\n",
        "rand = os.urandom(16)          # 16バイトの乱数を生成\n",
        "random.seed(rand)              # シード値を指定\n",
        "r = random.randrange(0,100)    # 0以上100未満の乱数を生成\n",
        "print(r)"
      ]
    },
    {
      "cell_type": "markdown",
      "metadata": {
        "id": "UkszqdRRvtJp"
      },
      "source": [
        "また，時間計測を行う際にはtimeパッケージを利用します．\n",
        "\n",
        "時間計測を行う際には評価したい処理の本質的でない部分（例えば乱数生成など）を計測時間に含めないように注意しましょう．\n",
        "\n",
        "以下が時間計測の例になります．"
      ]
    },
    {
      "cell_type": "code",
      "execution_count": null,
      "metadata": {
        "id": "VJS3nAYyyLlf"
      },
      "outputs": [],
      "source": [
        "import time\n",
        "import binascii\n",
        "\n",
        "p = 184908779667576050572947262326548513689\n",
        "\n",
        "# 乱数値を1000個持つ配列を作成\n",
        "a = [ ]                                                    \n",
        "for i in range(1000):\n",
        "  a.append(int(binascii.hexlify(os.urandom(20)), 16))\n",
        "  \n",
        "# 計測開始\n",
        "t = time.perf_counter()                                   # time.clock()は非推奨\n",
        "for i in range(1000):\n",
        "  pow(2, a[i], p)\n",
        "elapsed = time.perf_counter() - t\n",
        "print('{0}[s]'.format(elapsed))"
      ]
    },
    {
      "cell_type": "markdown",
      "metadata": {
        "id": "sXX9SQkbCZ4n"
      },
      "source": [
        "　特に今回の実験ではサーバへのHTTPリクエストとGoogleスプレッドシートへの書き込みを行う必要があります．\n",
        "これらもrequestsとgspreadを読み込むことで，容易に実行することができます．\n",
        "\n",
        "　以下はHTTPリクエストのうち，POSTと呼ばれる方法で指定したURLへアクセスし，情報を取得・表示するプログラムです．\n",
        "\n",
        "**注）プログラムで処理を自動化することは便利ですが，許可された場合を除き，サーバへの過度なアクセス等は，不正アクセス禁止法等の法令に抵触する可能性があるので慎重に利用する必要があります．**"
      ]
    },
    {
      "cell_type": "code",
      "execution_count": null,
      "metadata": {
        "id": "XxUFhtNAEOCR"
      },
      "outputs": [],
      "source": [
        "!pip install requests\n",
        "\n",
        "import requests\n",
        "\n",
        "url = '接続先'\n",
        "res = requests.post(url)\n",
        "print(res.text)"
      ]
    },
    {
      "cell_type": "markdown",
      "metadata": {
        "id": "WDSAbYUpHTwp"
      },
      "source": [
        "`res = requests.post(url)`という行が，指定したURLへ接続し，取得した各種情報を`res`という変数へ保存している処理です．\n",
        "`res`には様々な情報が含まれていますが，今回は`res.text`とすることで取得したWebページの本文を参照することができるということを覚えておけば十分です．\n",
        "\n",
        "　本実験ではPOSTリクエストを用いてCo2観測サーバへデータを取得しにいき，`res.text`で取得した内容を確認すればわかりますが，含まれているデータはHTML形式となっており，その本文（body）に観測データがJSON形式で含まれています．\n",
        "そのため，取得したデータから適切にbody部分のみを抜き出さなければなりません．\n",
        "\n",
        "　そこで`BeautifulSoup`と呼ばれるライブラリを用いると簡単にbody部分のみを抜き出すことができます．\n",
        "以下のようにライブラリを読み込み，取得したデータ`res`に対して，`BeautifulSoup(res.text, \"lxml\").find(\"body\").text`とすることでヘッダなどの不要な部分を排除して，bodyに含まれる情報のみを抜き出すことができます．\n",
        "```\n",
        "from bs4 import BeautifulSoup\n",
        "\n",
        "res = requests.post(url)\n",
        "res = BeautifulSoup(res.text, \"lxml\").find(\"body\").text\n",
        "```\n",
        "\n",
        "　また，以下はGoogleスプレッドシートへ情報を書き出すためのプログラムです．\n",
        "実行するとGoogleの認証画面が出るかもしれませんが，岡大Gmailアカウントで適切に認証を行いましょう．\n",
        "\n",
        "**注）こちらもクラウド連携を行い処理を自動化する手法の1つです．利用する際にはクラウドストレージ容量が無限でないこと，サーバへの負荷がかかる可能性を理解して，過度に不必要な情報の書き出しをおこなうことは避けましょう．**"
      ]
    },
    {
      "cell_type": "code",
      "source": [
        "import gspread\n",
        "from oauth2client.service_account import ServiceAccountCredentials\n",
        "\n",
        "scope = [\n",
        "    \"https://spreadsheets.google.com/feeds\",\n",
        "    \"https://www.googleapis.com/auth/drive\"\n",
        "]\n",
        "sheet_name = \"co2data\"\n",
        "credentials = ServiceAccountCredentials.from_json_keyfile_name(cred_json_name, scope)\n",
        "gc = gspread.authorize(credentials)\n",
        "sheet = gc.open(sheet_name).sheet1\n",
        "\n",
        "list_sample_data = [['1', '2022/12/26', '34.5'], ['2', '2022/12/27', '53.2'], ['3', '2022/12/28', '43.3']]\n",
        "\n",
        "for sample_data in list_sample_data: \n",
        "    sheet.append_row(sample_data)"
      ],
      "metadata": {
        "id": "9vaIXIgYORAD"
      },
      "execution_count": null,
      "outputs": []
    },
    {
      "cell_type": "markdown",
      "source": [
        "　このソースコードのうち，冒頭2行のimport文については必要なモジュールを読み込んでいるだけなので説明を割愛します．\n",
        "また，その次の行にある`scope`変数についても，Googleスプレッドシートへの書き込みに必要となる定型句なので，実験内でも基本的に変更する必要はありません．\n",
        "\n",
        "　変数`cred_json_name`および`sheet_name`は各自で編集する必要があります．\n",
        "まず，`cred_json_name`ではGoogleスプレッドシートのAPIを有効化し，秘密鍵を作成した際に取得したJSONフォーマットのデータへのパスを指定します．\n",
        "\n",
        "　例えば，各自のデスクトップなどに新規フォルダを作成し，上記ソースコードを`spreadsheet_sample.py`という名前で保存し，`spreadsheet_sample.py`と同じフォルダ内にJSONファイルを`exp_cred.json`として配置してやれば，ソースコードを変更する必要はありません．\n",
        "\n",
        "　次に`sheet_name`では，書き込み先となるスプレッドシートの情報を指定しています．本実験では特に変更する必要はありませんが，別のシートへ書き込むためには各自で，Googleスプレッドシートの共有設定（権限の付与）の際につけた名前（実験ではco2dataとしている）に変更する必要があります．\n",
        "\n",
        "　続く3文では指定した情報をもとにGoogleスプレッドシートへ書き込みを行うために必要な認証を行っています．\n",
        "こちらについても定型句になるので，そのまま使用すれば問題ありません．\n",
        "```\n",
        "credentials = ServiceAccountCredentials.from_json_keyfile_name(cred_json_name, scope)\n",
        "gc = gspread.authorize(credentials)\n",
        "sheet = gc.open(sheet_name).sheet1\n",
        "```\n",
        "\n",
        "　一方で，以下の3文ではリスト形式で用意したサンプルデータ`list_sample_data`を1行ずつGoogleスプレッドシートへ書き出しを行っている処理となります．\n",
        "書き出しを行う際のデータ型はいずれも文字列型である必要があるので注意しましょう．\n",
        "```\n",
        "list_sample_data = [['1', '2022/12/26', '34.5'], ['2', '2022/12/27', '53.2'], ['3', '2022/12/28', '43.3']]\n",
        "\n",
        "for sample_data in list_sample_data: \n",
        "    sheet.append_row(sample_data)\n",
        "```\n",
        "\n",
        "【参考情報】\n",
        "\n",
        "　WSL等の仮想環境では，時刻が同期できていない場合にはうまく動作しないことがあるため，`ntpdate`をインストールすることで解決する場合があります．"
      ],
      "metadata": {
        "id": "fBEZRv2scvQM"
      }
    },
    {
      "cell_type": "markdown",
      "metadata": {
        "id": "3ymOaQPu0Jet"
      },
      "source": [
        "__UNIX時間について__\n",
        "\n",
        "　最後に，計算機上での時刻表現の一種であるUNIX時間について説明します．UNIX時間とは協定世界時での1970年1月1日午前0時0分0秒から形式的な経過秒数として表される値です．今回の実験でもCO2濃度を観測した日時はUNIX時間として表現され，データベースへ格納されています．\n",
        "\n",
        "　UNIX時間から見慣れた年月日表現へ変更するには，以下のように`datetime`を用います．"
      ]
    },
    {
      "cell_type": "code",
      "execution_count": null,
      "metadata": {
        "id": "0hIpDPFt_b_o"
      },
      "outputs": [],
      "source": [
        "import datetime\n",
        "\n",
        "# 現在の時刻を取得\n",
        "current_datetime = datetime.datetime.now()\n",
        "print(current_datetime)\n",
        "\n",
        "# UNIX時間へ変換\n",
        "unixtime = datetime.datetime.timestamp(current_datetime)\n",
        "print(unixtime)\n",
        "\n",
        "# UNIX時間から変換\n",
        "datetime_from_unixtime = datetime.datetime.fromtimestamp(unixtime)\n",
        "print(datetime_from_unixtime)"
      ]
    },
    {
      "cell_type": "markdown",
      "metadata": {
        "id": "gMybUsRe3lMy"
      },
      "source": [
        "本実験で使用するpythonの基本的な文法については以上でおしまいです．"
      ]
    }
  ],
  "metadata": {
    "colab": {
      "provenance": [],
      "collapsed_sections": [
        "NKvmGI3F1BWO",
        "aSfKOwJwRi1B"
      ]
    },
    "kernelspec": {
      "display_name": "Python 3",
      "name": "python3"
    },
    "language_info": {
      "name": "python"
    }
  },
  "nbformat": 4,
  "nbformat_minor": 0
}